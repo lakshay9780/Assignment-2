{
 "cells": [
  {
   "cell_type": "markdown",
   "id": "71bc7aac-6f3b-43ed-83f0-b25577c39231",
   "metadata": {},
   "source": [
    "## ASSIGNMENT 2"
   ]
  },
  {
   "cell_type": "markdown",
   "id": "241051c1-cb5e-4924-a128-09be70328f54",
   "metadata": {},
   "source": [
    "# Answer 1"
   ]
  },
  {
   "cell_type": "code",
   "execution_count": 1,
   "id": "37b80547-1a68-48f5-80e0-f4905a67e62c",
   "metadata": {},
   "outputs": [
    {
     "name": "stdin",
     "output_type": "stream",
     "text": [
      "Enter your marks 75\n"
     ]
    },
    {
     "name": "stdout",
     "output_type": "stream",
     "text": [
      "You have got C grade\n"
     ]
    }
   ],
   "source": [
    "n=int(input(\"Enter your marks\"))\n",
    "if n>90:\n",
    "    print(\"You have got A grade\")\n",
    "elif n>80 and n<=90:\n",
    "    print(\"You have got B grade\")\n",
    "elif n>=60 and n<=80:\n",
    "    print(\"You have got C grade\")\n",
    "else:\n",
    "    print(\"You have D grade\")"
   ]
  },
  {
   "cell_type": "markdown",
   "id": "6d87f584-3ce5-4e62-953c-2ed072dcb758",
   "metadata": {},
   "source": [
    "# Answer 2"
   ]
  },
  {
   "cell_type": "code",
   "execution_count": 4,
   "id": "d2b85bae-8021-4d23-a753-73598f439c3b",
   "metadata": {},
   "outputs": [
    {
     "name": "stdin",
     "output_type": "stream",
     "text": [
      "Enter the cost price of bike 200000\n"
     ]
    },
    {
     "name": "stdout",
     "output_type": "stream",
     "text": [
      "Tax to be paid is 30000.0\n"
     ]
    }
   ],
   "source": [
    "cost=int(input(\"Enter the cost price of bike\"))\n",
    "tax=0\n",
    "if cost<=50000:\n",
    "    tax=(5/100)*cost\n",
    "elif cost>50000 and cost<=100000:\n",
    "    tax=(10/100)*cost\n",
    "else:\n",
    "    tax=(15/100)*cost\n",
    "print(\"Tax to be paid is\",tax)    "
   ]
  },
  {
   "cell_type": "markdown",
   "id": "50fa2b86-2b64-4ef1-a5d6-fb73cacee4df",
   "metadata": {},
   "source": [
    "# Answer 3"
   ]
  },
  {
   "cell_type": "code",
   "execution_count": 6,
   "id": "d72861cc-e4be-42fe-9c8a-042ebc72151d",
   "metadata": {},
   "outputs": [
    {
     "name": "stdin",
     "output_type": "stream",
     "text": [
      "Enter any city Agra\n"
     ]
    },
    {
     "name": "stdout",
     "output_type": "stream",
     "text": [
      "Monument is Taj Mahal\n"
     ]
    }
   ],
   "source": [
    "city=input(\"Enter any city\")\n",
    "if city==\"Agra\":\n",
    "    print(\"Monument is Taj Mahal\")\n",
    "elif city==\"Delhi\":\n",
    "    print(\"Monument is Red Fort\")\n",
    "elif city==\"Jaipur\":\n",
    "    print(\"Monument is Jal Mahal\")\n",
    "else:\n",
    "    print(\"Enter a valid city\")"
   ]
  },
  {
   "cell_type": "markdown",
   "id": "139ae713-15ff-4b92-8abe-e5ac2de740d9",
   "metadata": {},
   "source": [
    "# Answer 4"
   ]
  },
  {
   "cell_type": "code",
   "execution_count": 10,
   "id": "09258bff-2030-4774-847a-f8a273877f23",
   "metadata": {},
   "outputs": [
    {
     "name": "stdin",
     "output_type": "stream",
     "text": [
      "Enter a number 46\n"
     ]
    },
    {
     "name": "stdout",
     "output_type": "stream",
     "text": [
      "2 times divisible by 3\n"
     ]
    }
   ],
   "source": [
    "n=int(input(\"Enter a number\"))\n",
    "count=0\n",
    "while n>10:\n",
    "    count=count+1\n",
    "    n=n/3\n",
    "    \n",
    "print(count,\"times divisible by 3\")    "
   ]
  },
  {
   "cell_type": "markdown",
   "id": "8a988a87-ac55-4a0f-b859-41466b91620c",
   "metadata": {},
   "source": [
    "# Answer 5"
   ]
  },
  {
   "cell_type": "code",
   "execution_count": null,
   "id": "f3f48b9a-512f-420c-b221-0ae0ba676a9c",
   "metadata": {
    "tags": []
   },
   "outputs": [],
   "source": [
    "# Python While Loop is used to execute a block of statements repeatedly until a given condition is satisfied.\n",
    "# And when the condition becomes false, the line immediately after the loop in the program is executed.\n",
    "# While loop falls under the category of indefinite iteration. \n",
    "# Indefinite iteration means that the number of times the loop is executed isn’t specified explicitly in advance. \n",
    "\n",
    "# Statements represent all the statements indented by the same number of character spaces after a programming construct are considered \n",
    "# to be part of a single block of code. Python uses indentation as its method of grouping statements.\n",
    "# When a while loop is executed, expr is first evaluated in a Boolean context and if it is true, the loop body is executed.\n",
    "# Then the expression is checked again, if it is still true then the body is executed again and this continues until the expression becomes false.\n",
    "# Example\n",
    "# count = 0\n",
    "# while (count < 3):\n",
    "#    count = count + 1\n",
    "#    print(\"Hello World\")\n"
   ]
  },
  {
   "cell_type": "markdown",
   "id": "1dc83953-6d07-4501-b4ab-651921320aa9",
   "metadata": {},
   "source": [
    "# Answer 6"
   ]
  },
  {
   "cell_type": "code",
   "execution_count": 1,
   "id": "f34f2bac-d31e-4a6f-bafa-5d359db2b14a",
   "metadata": {},
   "outputs": [
    {
     "name": "stdin",
     "output_type": "stream",
     "text": [
      "Enter the number of rows 6\n"
     ]
    },
    {
     "name": "stdout",
     "output_type": "stream",
     "text": [
      "\n",
      "1 \n",
      "2 2 \n",
      "3 3 3 \n",
      "4 4 4 4 \n",
      "5 5 5 5 5 \n"
     ]
    }
   ],
   "source": [
    "rows = int(input('Enter the number of rows'))\n",
    "for i in range(rows):\n",
    "    for j in range(i):\n",
    "        print(i, end=' ')\n",
    "    print('')"
   ]
  },
  {
   "cell_type": "code",
   "execution_count": 2,
   "id": "c9e4e044-c8ab-490d-a13d-6fc9109768c0",
   "metadata": {},
   "outputs": [
    {
     "name": "stdin",
     "output_type": "stream",
     "text": [
      "Enter the number of rows 6\n"
     ]
    },
    {
     "name": "stdout",
     "output_type": "stream",
     "text": [
      "1 \n",
      "1 2 \n",
      "1 2 3 \n",
      "1 2 3 4 \n",
      "1 2 3 4 5 \n",
      "1 2 3 4 5 6 \n"
     ]
    }
   ],
   "source": [
    "rows = int(input(\"Enter the number of rows\"))\n",
    "for i in range(1, rows + 1):\n",
    "    for j in range(1, i + 1):\n",
    "        print(j, end=' ')\n",
    "    print('')"
   ]
  },
  {
   "cell_type": "code",
   "execution_count": 3,
   "id": "f4b70837-3776-4c61-ace0-5343cd8de747",
   "metadata": {},
   "outputs": [
    {
     "name": "stdin",
     "output_type": "stream",
     "text": [
      "enter the number of rows 5\n"
     ]
    },
    {
     "name": "stdout",
     "output_type": "stream",
     "text": [
      "1 1 1 1 1 \n",
      "2 2 2 2 \n",
      "3 3 3 \n",
      "4 4 \n",
      "5 \n"
     ]
    }
   ],
   "source": [
    "rows = int(input(\"enter the number of rows\"))\n",
    "b = 0\n",
    "# reverse for loop from 5 to 0\n",
    "for i in range(rows, 0, -1):\n",
    "    b += 1\n",
    "    for j in range(1, i + 1):\n",
    "        print(b, end=' ')\n",
    "    print('')"
   ]
  },
  {
   "cell_type": "markdown",
   "id": "ba5303c0-1478-4332-8b45-dc543968a823",
   "metadata": {},
   "source": [
    "# Answer 7"
   ]
  },
  {
   "cell_type": "code",
   "execution_count": 5,
   "id": "890355d2-1cb7-420a-af96-50c9c7a62f2e",
   "metadata": {},
   "outputs": [
    {
     "name": "stdout",
     "output_type": "stream",
     "text": [
      "10\n",
      "9\n",
      "8\n",
      "7\n",
      "6\n",
      "5\n",
      "4\n",
      "3\n",
      "2\n",
      "1\n"
     ]
    }
   ],
   "source": [
    "i=10\n",
    "while i>0:\n",
    "    print(i)\n",
    "    i=i-1"
   ]
  },
  {
   "cell_type": "code",
   "execution_count": null,
   "id": "4ce0cf42-52f9-4d87-af09-f263725b2644",
   "metadata": {},
   "outputs": [],
   "source": []
  }
 ],
 "metadata": {
  "kernelspec": {
   "display_name": "Python 3 (ipykernel)",
   "language": "python",
   "name": "python3"
  },
  "language_info": {
   "codemirror_mode": {
    "name": "ipython",
    "version": 3
   },
   "file_extension": ".py",
   "mimetype": "text/x-python",
   "name": "python",
   "nbconvert_exporter": "python",
   "pygments_lexer": "ipython3",
   "version": "3.10.8"
  }
 },
 "nbformat": 4,
 "nbformat_minor": 5
}
